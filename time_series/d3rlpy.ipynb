{
 "cells": [
  {
   "cell_type": "code",
   "execution_count": 1,
   "id": "0c5a32e2",
   "metadata": {},
   "outputs": [],
   "source": [
    "\n",
    "import minari\n",
    "import numpy as np\n",
    "import gymnasium as gym\n",
    "from PIL import Image\n",
    "from minari import DataCollector\n",
    "import torch\n",
    "import torch.nn as nn\n",
    "import tqdm\n",
    "import torch.optim as optim\n",
    "from torch.utils.data import Dataset, DataLoader\n",
    "from torchvision import transforms\n",
    "# from torchvision.models import resnet50 # No longer using resnet50\n",
    "from torchvision.models import resnet18, ResNet18_Weights # Import ResNet-18\n",
    "from sklearn.model_selection import train_test_split\n",
    "from copy import deepcopy\n",
    "import d3rlpy\n",
    "\n",
    "import numpy as np\n",
    "import pandas as pd\n",
    "from copy import deepcopy\n",
    "\n",
    "from simulation import cancer\n",
    "from generate import simulate_blackwell_glynn\n",
    "from nsmm import nsmm_lag1, nsmm_lag1_cate\n",
    "from msm import MarginalStructuralModel\n"
   ]
  },
  {
   "cell_type": "code",
   "execution_count": 2,
   "id": "447b9f74",
   "metadata": {},
   "outputs": [
    {
     "name": "stderr",
     "output_type": "stream",
     "text": [
      "e:\\projects\\learning_causal_inference\\time_series\\simulation\\cancer.py:357: RuntimeWarning: overflow encountered in exp\n",
      "  if recovery_rvs[i, t] < np.exp(-cancer_volume[i, t] * tumour_cell_density):\n"
     ]
    }
   ],
   "source": [
    "\n",
    "np.random.seed(100)\n",
    "\n",
    "num_time_steps = 60  # 6 month followup\n",
    "num_patients = 1000\n",
    "\n",
    "simulation_params = cancer.get_confounding_params(num_patients, chemo_coeff=10.0, radio_coeff=10.0)\n",
    "simulation_params['window_size'] = 15\n",
    "\n",
    "outputs = cancer.simulate(simulation_params, num_time_steps)"
   ]
  },
  {
   "cell_type": "code",
   "execution_count": 3,
   "id": "5b086268",
   "metadata": {},
   "outputs": [],
   "source": [
    "# Assuming df is your dataframe\n",
    "def prepare_data_for_outcome(df, drug_half_life = 1):\n",
    "    df = df.copy()\n",
    "    df['chemo_dosage'] = 0.0\n",
    "    df['previous_cancer_volume'] = df['cancer_volume']\n",
    "    for pid, group in df.groupby('Patient_ID'):\n",
    "        group = group.sort_values('Time_Point')\n",
    "        chemo_instant_dosage = group['chemo_instant_dosage']\n",
    "        previous_chemo_dose = group['chemo_instant_dosage'].shift(1)\n",
    "        previous_cancer_volume = group['cancer_volume'].shift(1)\n",
    "        chemo_dosages = cancer.get_chemo_dosage(chemo_instant_dosage, previous_chemo_dose, drug_half_life)\n",
    "        \n",
    "\n",
    "        df.loc[group.index, 'chemo_dosage'] = chemo_dosages\n",
    "        df.loc[group.index, 'previous_cancer_volume'] = previous_cancer_volume\n",
    "\n",
    "        df['termination'] = 0\n",
    "        df.loc[group.index[-1], 'termination'] = 1\n",
    "\n",
    "    return df.dropna().reset_index(drop=True)\n",
    "\n",
    "# Example usage\n",
    "df = prepare_data_for_outcome(outputs)\n",
    "\n",
    "# drop some row since it need lag data\n",
    "n_time = int(len(df)/num_patients)\n",
    "df['category'] = (df['chemo_application'] * 2 + df['radio_application'])\n",
    "\n"
   ]
  },
  {
   "cell_type": "code",
   "execution_count": 4,
   "id": "d89ff0fb",
   "metadata": {},
   "outputs": [
    {
     "name": "stdout",
     "output_type": "stream",
     "text": [
      "2025-07-28 23:20.04 [info     ] Signatures have been automatically determined. action_signature=Signature(dtype=[dtype('int32')], shape=[(1,)]) observation_signature=Signature(dtype=[dtype('float64')], shape=[(3,)]) reward_signature=Signature(dtype=[dtype('float64')], shape=[(1,)])\n",
      "2025-07-28 23:20.04 [info     ] dataset info                   dataset_info=DatasetInfo(observation_signature=Signature(dtype=[dtype('float64')], shape=[(3,)]), action_signature=Signature(dtype=[dtype('int32')], shape=[(1,)]), reward_signature=Signature(dtype=[dtype('float64')], shape=[(1,)]), action_space=<ActionSpace.DISCRETE: 2>, action_size=4)\n",
      "2025-07-28 23:20.04 [warning  ] Skip building models since they're already built.\n",
      "2025-07-28 23:20.04 [info     ] Directory is created at d3rlpy_logs\\DQN_20250728232004\n",
      "2025-07-28 23:20.04 [info     ] Parameters                     params={'observation_shape': [3], 'action_size': 4, 'config': {'type': 'dqn', 'params': {'batch_size': 32, 'gamma': 0, 'observation_scaler': {'type': 'none', 'params': {}}, 'action_scaler': {'type': 'none', 'params': {}}, 'reward_scaler': {'type': 'none', 'params': {}}, 'compile_graph': False, 'learning_rate': 6.25e-05, 'optim_factory': {'type': 'adam', 'params': {'clip_grad_norm': None, 'lr_scheduler_factory': {'type': 'none', 'params': {}}, 'betas': [0.9, 0.999], 'eps': 1e-08, 'weight_decay': 0, 'amsgrad': False}}, 'encoder_factory': {'type': 'default', 'params': {'activation': 'relu', 'use_batch_norm': False, 'dropout_rate': None}}, 'q_func_factory': {'type': 'mean', 'params': {'share_encoder': False}}, 'n_critics': 1, 'target_update_interval': 8000}}}\n"
     ]
    },
    {
     "data": {
      "application/vnd.jupyter.widget-view+json": {
       "model_id": "377e46cc29bf454bb59d49c33b0e9dff",
       "version_major": 2,
       "version_minor": 0
      },
      "text/plain": [
       "Epoch 1/1:   0%|          | 0/10000 [00:00<?, ?it/s]"
      ]
     },
     "metadata": {},
     "output_type": "display_data"
    },
    {
     "name": "stdout",
     "output_type": "stream",
     "text": [
      "2025-07-28 23:20.32 [info     ] DQN_20250728232004: epoch=1 step=10000 epoch=1 metrics={'time_sample_batch': 0.0005855859279632568, 'time_algorithm_update': 0.002180792236328125, 'loss': 3.3211084084954114, 'time_step': 0.002828042411804199} step=10000\n",
      "2025-07-28 23:20.32 [info     ] Model parameters are saved to d3rlpy_logs\\DQN_20250728232004\\model_10000.d3\n"
     ]
    },
    {
     "data": {
      "text/plain": [
       "[(1,\n",
       "  {'time_sample_batch': 0.0005855859279632568,\n",
       "   'time_algorithm_update': 0.002180792236328125,\n",
       "   'loss': 3.3211084084954114,\n",
       "   'time_step': 0.002828042411804199})]"
      ]
     },
     "execution_count": 4,
     "metadata": {},
     "output_type": "execute_result"
    }
   ],
   "source": [
    "from d3rlpy.constants import ActionSpace\n",
    "from d3rlpy.algos import DQNConfig\n",
    "state = df[['previous_cancer_volume',  'chemo_instant_dosage','radio_dosage']].to_numpy()\n",
    "# action = df[['chemo_application', 'radio_application']].to_numpy()\n",
    "action = df[['category']].to_numpy().astype(int)\n",
    "reward = df[['previous_cancer_volume']].to_numpy()-df[['cancer_volume']].to_numpy()\n",
    "next_state = df[['cancer_volume']].to_numpy()\n",
    "terminations = df[['termination']].to_numpy()\n",
    "\n",
    "\n",
    "dataset = d3rlpy.dataset.MDPDataset(\n",
    "    observations=state,\n",
    "    actions=action,\n",
    "    rewards=reward,\n",
    "    terminals=terminations,\n",
    "    action_space = ActionSpace.DISCRETE,\n",
    "    action_size  = 4\n",
    ")\n",
    "\n",
    "# if you don't use GPU, set device=None instead.\n",
    "dqn = DQNConfig(gamma = 0).create(device=\"cpu\")\n",
    "\n",
    "# initialize neural networks with the given observation shape and action size.\n",
    "# this is not necessary when you directly call fit or fit_online method.\n",
    "dqn.build_with_dataset(dataset)\n",
    "\n",
    "dqn.fit(\n",
    "    dataset,\n",
    "    n_steps=10000,\n",
    "    \n",
    ")"
   ]
  },
  {
   "cell_type": "code",
   "execution_count": 15,
   "id": "81e923c3",
   "metadata": {},
   "outputs": [
    {
     "data": {
      "text/plain": [
       "1.2960536"
      ]
     },
     "execution_count": 15,
     "metadata": {},
     "output_type": "execute_result"
    }
   ],
   "source": [
    "baseline = dqn.predict_value(state, np.array([0]*len(state)))\n",
    "\n",
    "radio = dqn.predict_value(state, np.array([2]*len(state)))\n",
    "\n",
    "(radio - baseline).mean()"
   ]
  },
  {
   "cell_type": "code",
   "execution_count": 70,
   "id": "24a94e5d",
   "metadata": {},
   "outputs": [
    {
     "data": {
      "text/plain": [
       "array([1, 1, 1, 1, 1, 1, 1, 1, 1, 1, 1, 1, 1, 1, 1, 1, 1, 1, 1, 1, 1, 1,\n",
       "       1, 1, 1, 1, 1, 1, 1, 1, 1, 1, 1, 1, 1, 1, 1, 1, 1, 1, 1, 1, 1, 1,\n",
       "       1, 1, 1, 1, 1, 1, 1, 1, 1, 1, 1, 1, 1, 1, 1, 1, 1, 1, 1, 1, 1, 1,\n",
       "       1, 1, 1, 1, 1, 1, 1, 1, 1, 1, 1, 1, 1, 1, 1, 1, 1, 1, 1, 1, 1, 1,\n",
       "       1, 1, 1, 1, 1, 1, 1, 1, 1, 1, 1, 1, 1, 1, 1, 1, 1, 1, 1, 1, 1, 1,\n",
       "       1, 1, 1, 1, 0, 1, 1, 1, 1, 1, 1, 1, 1, 1, 1, 1, 1, 1, 1, 1, 1, 1,\n",
       "       1, 1, 1, 1, 1, 1, 1, 1, 1, 1, 1, 1, 1, 1, 1, 1, 1, 1, 1, 1, 1, 1,\n",
       "       1, 1, 1, 1, 1, 1, 1, 1, 1, 1, 1, 1, 1, 1, 1, 1, 1, 1, 1, 1, 1, 1,\n",
       "       1, 1, 1, 1, 1, 1, 1, 1, 1, 1, 1, 1, 1, 1, 1, 1, 1, 1, 1, 1, 1, 1,\n",
       "       1, 1], dtype=int64)"
      ]
     },
     "execution_count": 70,
     "metadata": {},
     "output_type": "execute_result"
    }
   ],
   "source": [
    "dqn.predict(state[:200])"
   ]
  }
 ],
 "metadata": {
  "kernelspec": {
   "display_name": "ds",
   "language": "python",
   "name": "python3"
  },
  "language_info": {
   "codemirror_mode": {
    "name": "ipython",
    "version": 3
   },
   "file_extension": ".py",
   "mimetype": "text/x-python",
   "name": "python",
   "nbconvert_exporter": "python",
   "pygments_lexer": "ipython3",
   "version": "3.11.9"
  }
 },
 "nbformat": 4,
 "nbformat_minor": 5
}
