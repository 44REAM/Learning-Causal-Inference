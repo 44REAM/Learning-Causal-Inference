{
 "cells": [
  {
   "cell_type": "code",
   "execution_count": 1,
   "metadata": {},
   "outputs": [],
   "source": [
    "import numpy as np\n",
    "import pandas as pd\n",
    "from copy import deepcopy\n",
    "\n",
    "from simulation import cancer\n",
    "from generate import simulate_blackwell_glynn\n",
    "from nsmm import nsmm_lag1, nsmm_lag1_cate\n",
    "from msm import MarginalStructuralModel"
   ]
  },
  {
   "cell_type": "code",
   "execution_count": 2,
   "metadata": {},
   "outputs": [
    {
     "data": {
      "text/plain": [
       "(-0.0913801121686876, -0.10421430900215296)"
      ]
     },
     "execution_count": 2,
     "metadata": {},
     "output_type": "execute_result"
    }
   ],
   "source": [
    "df = simulate_blackwell_glynn(n_units=1000, t_periods=20)\n",
    "nsmm_lag1(df, unit = 'i' , treatment = 'X',outcome = 'Y',common_causes= ['Z'])"
   ]
  },
  {
   "cell_type": "code",
   "execution_count": 2,
   "metadata": {},
   "outputs": [
    {
     "name": "stdout",
     "output_type": "stream",
     "text": [
      "Model coefficients:\n",
      "                   X: -0.090\n",
      "              X_lag1: -0.080\n",
      "                   Z:  0.019\n",
      "              Y_lag1:  0.041\n",
      "              Z_lag1:  0.010\n",
      "           Intercept:  0.749\n"
     ]
    }
   ],
   "source": [
    "df = simulate_blackwell_glynn(n_units=1000, t_periods=20)\n",
    "msm = MarginalStructuralModel(\n",
    "    treatment=['X'],\n",
    "    outcome='Y',\n",
    "    common_causes=['Z'],\n",
    "    id_col='i', time_col='t'\n",
    ")\n",
    "msm.fit(df)\n",
    "msm.summary()"
   ]
  },
  {
   "cell_type": "markdown",
   "metadata": {},
   "source": [
    "# Cancer data"
   ]
  },
  {
   "cell_type": "code",
   "execution_count": 2,
   "metadata": {},
   "outputs": [
    {
     "name": "stderr",
     "output_type": "stream",
     "text": [
      "e:\\projects\\learning_causal_inference\\time_series\\simulation\\cancer.py:357: RuntimeWarning: overflow encountered in exp\n",
      "  if recovery_rvs[i, t] < np.exp(-cancer_volume[i, t] * tumour_cell_density):\n"
     ]
    }
   ],
   "source": [
    "\n",
    "np.random.seed(100)\n",
    "\n",
    "num_time_steps = 60  # 6 month followup\n",
    "num_patients = 1000\n",
    "\n",
    "simulation_params = cancer.get_confounding_params(num_patients, chemo_coeff=10.0, radio_coeff=10.0)\n",
    "simulation_params['window_size'] = 15\n",
    "\n",
    "outputs = cancer.simulate(simulation_params, num_time_steps)"
   ]
  },
  {
   "cell_type": "markdown",
   "metadata": {},
   "source": [
    "## Real effect"
   ]
  },
  {
   "cell_type": "code",
   "execution_count": 3,
   "metadata": {},
   "outputs": [],
   "source": [
    "# Assuming df is your dataframe\n",
    "def prepare_data_for_outcome(df, drug_half_life = 1):\n",
    "    df = df.copy()\n",
    "    df['chemo_dosage'] = 0.0\n",
    "    df['previous_cancer_volume'] = df['cancer_volume']\n",
    "    for pid, group in df.groupby('Patient_ID'):\n",
    "        group = group.sort_values('Time_Point')\n",
    "        chemo_instant_dosage = group['chemo_instant_dosage']\n",
    "        previous_chemo_dose = group['chemo_instant_dosage'].shift(1)\n",
    "        previous_cancer_volume = group['cancer_volume'].shift(1)\n",
    "        chemo_dosages = cancer.get_chemo_dosage(chemo_instant_dosage, previous_chemo_dose, drug_half_life)\n",
    "        \n",
    "\n",
    "        df.loc[group.index, 'chemo_dosage'] = chemo_dosages\n",
    "        df.loc[group.index, 'previous_cancer_volume'] = previous_cancer_volume\n",
    "\n",
    "\n",
    "\n",
    "    return df.dropna().reset_index(drop=True)\n",
    "\n",
    "# Example usage\n",
    "df = prepare_data_for_outcome(outputs)\n",
    "\n",
    "# drop some row since it need lag data\n",
    "n_time = int(len(df)/num_patients)"
   ]
  },
  {
   "cell_type": "code",
   "execution_count": 4,
   "metadata": {},
   "outputs": [
    {
     "data": {
      "text/plain": [
       "-15.456086405722985"
      ]
     },
     "execution_count": 4,
     "metadata": {},
     "output_type": "execute_result"
    }
   ],
   "source": [
    "radio_normal = cancer.get_cancer_outcome(\n",
    "    df['previous_cancer_volume'], \n",
    "    df['chemo_dosage'], df['radio_dosage'], \n",
    "    simulation_params['rho'].repeat(n_time), simulation_params['K'].repeat(n_time), \n",
    "    simulation_params['beta_c'].repeat(n_time), simulation_params['alpha'].repeat(n_time), \n",
    "    simulation_params['beta'].repeat(n_time)).mean()\n",
    "radio_minus = cancer.get_cancer_outcome(\n",
    "    df['previous_cancer_volume'], \n",
    "    df['chemo_dosage'], df['radio_dosage']-1, \n",
    "    simulation_params['rho'].repeat(n_time), simulation_params['K'].repeat(n_time), \n",
    "    simulation_params['beta_c'].repeat(n_time), simulation_params['alpha'].repeat(n_time), \n",
    "    simulation_params['beta'].repeat(n_time)).mean()\n",
    "radio_normal - radio_minus"
   ]
  },
  {
   "cell_type": "code",
   "execution_count": 5,
   "metadata": {},
   "outputs": [
    {
     "name": "stdout",
     "output_type": "stream",
     "text": [
      "Model coefficients:\n",
      "chemo_instant_dosage: -0.115\n",
      "        radio_dosage: -0.368\n",
      "chemo_instant_dosage_lag1: -10.896\n",
      "   radio_dosage_lag1: -76.660\n",
      "  cancer_volume_lag1:  0.977\n",
      "chemo_instant_dosage_x_radio_dosage_lag1:  3.919\n",
      "chemo_instant_dosage_x_chemo_instant_dosage_lag1: -2.525\n",
      "chemo_instant_dosage_x_cancer_volume_lag1:  0.003\n",
      "radio_dosage_x_radio_dosage_lag1:  12.770\n",
      "radio_dosage_x_chemo_instant_dosage_lag1: -1.730\n",
      "radio_dosage_x_cancer_volume_lag1:  0.008\n",
      "           Intercept:  7.984\n"
     ]
    }
   ],
   "source": [
    "msm = MarginalStructuralModel(\n",
    "    treatment=['chemo_instant_dosage', 'radio_dosage'],\n",
    "    outcome='cancer_volume',\n",
    "    common_causes=[],\n",
    "    id_col='Patient_ID', time_col='Time_Point'\n",
    ")\n",
    "msm.fit(outputs)\n",
    "msm.summary()"
   ]
  },
  {
   "cell_type": "code",
   "execution_count": 16,
   "metadata": {},
   "outputs": [
    {
     "data": {
      "text/plain": [
       "-0.7354597443416111"
      ]
     },
     "execution_count": 16,
     "metadata": {},
     "output_type": "execute_result"
    }
   ],
   "source": [
    "outputs_intervention = msm._prepare_data(outputs, drop = False)\n",
    "outputs_intervention['radio_dosage'] = outputs_intervention['radio_dosage']-2\n",
    "real = msm.predict(outputs, prepare_data=True)\n",
    "intervention = msm.predict(outputs_intervention, prepare_data=False)\n",
    "\n",
    "np.nanmean(real)-np.nanmean(intervention)\n"
   ]
  },
  {
   "cell_type": "code",
   "execution_count": null,
   "metadata": {},
   "outputs": [],
   "source": []
  }
 ],
 "metadata": {
  "kernelspec": {
   "display_name": "ds",
   "language": "python",
   "name": "python3"
  },
  "language_info": {
   "codemirror_mode": {
    "name": "ipython",
    "version": 3
   },
   "file_extension": ".py",
   "mimetype": "text/x-python",
   "name": "python",
   "nbconvert_exporter": "python",
   "pygments_lexer": "ipython3",
   "version": "3.11.9"
  }
 },
 "nbformat": 4,
 "nbformat_minor": 2
}
